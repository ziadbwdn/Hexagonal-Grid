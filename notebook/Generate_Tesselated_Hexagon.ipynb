{
 "cells": [
  {
   "cell_type": "markdown",
   "id": "6fa1f361-7c87-4368-b81f-e3c8ce0d12aa",
   "metadata": {},
   "source": [
    "## Hexagonal Grid - How to create an equillateral hexagonal grid to be visualized in GIS"
   ]
  },
  {
   "cell_type": "markdown",
   "id": "e2f8d160-c5b9-473d-9458-9ed4fcce2ed1",
   "metadata": {},
   "source": [
    "List of ingredients:\n",
    "\n",
    "- Central points, containing horizontal cartesian coordinates (in X,Y format)\n",
    "- Area of Interest / AOI (in this section we generate the shapefile first)\n",
    "- Sidelength of Hexagon"
   ]
  },
  {
   "cell_type": "code",
   "execution_count": 87,
   "id": "095b0668-5f57-44b2-ac19-caa1ce94ca83",
   "metadata": {},
   "outputs": [],
   "source": [
    "# import library\n",
    "\n",
    "import numpy as np\n",
    "import matplotlib.pyplot as plt\n",
    "import shapely.geometry as sg\n",
    "import geopandas as gpd\n",
    "from shapely.geometry import shape\n",
    "from fiona import collection\n",
    "from shapely.geometry import Point"
   ]
  },
  {
   "cell_type": "markdown",
   "id": "3ea242cc-413f-4517-a4e5-4fe3d5973b8a",
   "metadata": {},
   "source": [
    "### 1. Create a systematic central points function\n",
    "---"
   ]
  },
  {
   "cell_type": "markdown",
   "id": "8ee7db76-decf-43a5-9b1a-b0c8a45d870f",
   "metadata": {},
   "source": [
    "in this part, we will try to generate central points at first, before try to reconstruct a polygon from the result"
   ]
  },
  {
   "cell_type": "code",
   "execution_count": 91,
   "id": "2f07ef59-108c-4ce3-a051-8557931cf18a",
   "metadata": {},
   "outputs": [],
   "source": [
    "def generate_point_sequences(point_init, sidelength, cols):\n",
    "    \"\"\"Generates a sequence of points for a Cartesian planar diagram.\n",
    "\n",
    "    Args:\n",
    "        point_init: A list of x and y coordinates\n",
    "        sidelength: The number of sidelength will be generated\n",
    "        rows: the number of rows will be generated\n",
    "\n",
    "    Returns:\n",
    "        A list of shapely Point objects.\n",
    "    \"\"\"\n",
    "    sequence_xy = []\n",
    "    x_init = point_init[0] \n",
    "    y_init = point_init[1]\n",
    "    \n",
    "    for i in range(cols):\n",
    "        x = i * 1.5 * sidelength\n",
    "        y = i*np.sqrt(3)*1.5 * sidelength\n",
    "        x_n = -x\n",
    "        y_offset = []\n",
    "        for a in range (cols - i):\n",
    "            if (a + i) % 2 == 0:\n",
    "                y_new = a * np.sqrt(3)/2 * sidelength\n",
    "                y_offset.append(y_new)\n",
    "        \n",
    "        for idx,j in enumerate(y_offset):\n",
    "            sequence_xy.append((x_init + x, y_init + j))\n",
    "            sequence_xy.append((x_init - x, y_init - j))\n",
    "            sequence_xy.append((x_init + x_n, y_init + j))\n",
    "            sequence_xy.append((x_init - x_n, y_init - j))\n",
    "            \n",
    "    seq_pt = [Point(x, y) for (x, y) in sequence_xy] \n",
    "    return seq_pt"
   ]
  },
  {
   "cell_type": "markdown",
   "id": "d7fd812c-f181-4a58-9910-b25ab125a474",
   "metadata": {},
   "source": [
    "### 2. Create an equillateral hexagon shape function\n",
    "---"
   ]
  },
  {
   "cell_type": "code",
   "execution_count": 93,
   "id": "3a05d23c-7e52-4372-87dc-b387bdc394aa",
   "metadata": {},
   "outputs": [],
   "source": [
    "def hex (sidelength, x_init, y_init):\n",
    "    '''\n",
    "    function to generate equillateral hexagon shape\n",
    "    Parameter:\n",
    "    - sidelength: (int/float) sidelength of the hexagon shape\n",
    "    - x_init: (int/float) x coordinate of the hexagon to be initiated\n",
    "    - y_init: (int/float) y coordinate of the hexagon to be initiated\n",
    "    '''\n",
    "    # initiate theta of equilateral hexagon, which is 120 degrees\n",
    "    int_angle = 2*np.pi/3 \n",
    "\n",
    "    #initiate an empty list\n",
    "    coor_list = []\n",
    "\n",
    "    # initiate first state of integer variable for looping purposes\n",
    "    a = 0\n",
    "    point_x = x_init\n",
    "    point_y = y_init\n",
    "\n",
    "    # do the loop for coordinate plotting\n",
    "    while a < 6: \n",
    "        # state a first theta, and repeat by a += 1\n",
    "        theta = a * int_angle\n",
    "        a += 1\n",
    "\n",
    "        # calculate x and y variable \n",
    "        x = sidelength*(np.cos(theta)) + point_x\n",
    "        y = sidelength*(np.sin(theta)) + point_y\n",
    "        \n",
    "        \n",
    "        # state a conditional statements on loop in even numbers\n",
    "        if a % 2 == 0:\n",
    "            x = sidelength*(np.cos(theta))*(-1) + point_x\n",
    "            y = sidelength*(np.sin(theta))*(-1) + point_y\n",
    "        \n",
    "        # put all of the output to coor_list variable\n",
    "        coor_list.append((x,y))\n",
    "\n",
    "    # convert coor_list into array\n",
    "    coord = np.array(coor_list)\n",
    "        \n",
    "    # calculate area and plot hexagon with coord variable\n",
    "    area = (np.sqrt(3)/2)*(s**2)\n",
    "    hexagon = sg.Polygon(coord)\n",
    "    return hexagon"
   ]
  },
  {
   "cell_type": "markdown",
   "id": "b14d608b-9226-4cdd-8022-7ce7c9675d1a",
   "metadata": {},
   "source": [
    "### 3. Create multiple grid from hexagon shape function\n",
    "---"
   ]
  },
  {
   "cell_type": "code",
   "execution_count": 95,
   "id": "c6b3db51-762d-4e62-9faa-2abc8a4ae685",
   "metadata": {},
   "outputs": [],
   "source": [
    "# grid generator function\n",
    "def grid_hex(point_init, sidelength):\n",
    "    '''\n",
    "    function to generate hexagon shape grid\n",
    "    Parameter:\n",
    "    - s: (int) side length of the hexagon shape\n",
    "    - point_init: (list) consist of x, y as an initial point placed at center\n",
    "\n",
    "    Return:\n",
    "    - hex_grid: (shape object) an output of shapely geometry\n",
    "    '''\n",
    "    hex_grid = []\n",
    "\n",
    "    # initiate first state of integer variable for looping purposes\n",
    "    point_x = point_init['X']\n",
    "    point_y = point_init['Y']\n",
    "\n",
    "    # do the loop for coordinate plotting\n",
    "    for x, y in zip(point_x, point_y):\n",
    "        hexagon = hex (sidelength, x_init = s, y_init = y)\n",
    "        hex_grid.append(hexagon)\n",
    "\n",
    "    return hex_grid"
   ]
  },
  {
   "cell_type": "markdown",
   "id": "92dce7a8-82e5-4ada-bc4b-4f09211852b4",
   "metadata": {},
   "source": [
    "### 4. shapefile exporter function\n",
    "---"
   ]
  },
  {
   "cell_type": "code",
   "execution_count": 97,
   "id": "a2f0eff4-cb90-4561-bb81-cb91fa69896d",
   "metadata": {},
   "outputs": [],
   "source": [
    "def export_to_shapefile(target, filename, crs):\n",
    "    \"\"\"\n",
    "    Converts a list of Shapely Point objects to a GeoDataFrame and exports it as a shapefile.\n",
    "    \n",
    "    Parameters:\n",
    "        point_sequence (list): List of Shapely Point objects.\n",
    "        filename (str): The output shapefile name (e.g., \"points.shp\").\n",
    "        crs (int, optional): Coordinate Reference System (we will use 32748 for this occasion).\n",
    "    \"\"\"\n",
    "    # Create a dictionary for the GeoDataFrame\n",
    "    gdf = gpd.GeoDataFrame({\"geometry\": target})\n",
    "    gdf = gdf.set_crs(crs)\n",
    "\n",
    "    # export GeoDataFrame object into shapefile\n",
    "    gdf = gdf.to_file(filename)\n",
    "    \n",
    "    return gdf"
   ]
  },
  {
   "cell_type": "markdown",
   "id": "2300f15b-8532-4ccb-9b24-deb19236bfa0",
   "metadata": {},
   "source": [
    "## Main code\n",
    "---"
   ]
  },
  {
   "cell_type": "code",
   "execution_count": 163,
   "id": "3096f61c-2a65-42ef-b2a0-345ea8df9692",
   "metadata": {},
   "outputs": [],
   "source": [
    "# import shapefile and extract centroid from shape\n",
    "AOI = gpd.read_file(\"AOI.shp\")\n",
    "AOI['centroid'] = AOI.geometry.centroid\n",
    "x_values = AOI.geometry.centroid.x.tolist()\n",
    "y_values = AOI.geometry.centroid.y.tolist()"
   ]
  },
  {
   "cell_type": "code",
   "execution_count": 165,
   "id": "beee7720-f7a5-4b6f-b87c-f5d325b9dbe1",
   "metadata": {},
   "outputs": [],
   "source": [
    "point_init = [x_values[0], y_values[0]]\n",
    "sidelength = 4000\n",
    "cols = 25"
   ]
  },
  {
   "cell_type": "code",
   "execution_count": 167,
   "id": "17e56680-3dc0-4a48-af36-49f8fa2cb009",
   "metadata": {},
   "outputs": [],
   "source": [
    "# apply the function of generating sequences\n",
    "sequences = generate_point_sequences(point_init, sidelength, cols)"
   ]
  },
  {
   "cell_type": "code",
   "execution_count": 169,
   "id": "51a0a39f-299b-40b8-9504-ded3ea02494b",
   "metadata": {},
   "outputs": [],
   "source": [
    "# export to shapefile with shapefile function\n",
    "crs = 32748\n",
    "gdf = export_to_shapefile(target = sequences, filename = \"hexagon.shp\", crs)"
   ]
  },
  {
   "cell_type": "code",
   "execution_count": 171,
   "id": "92b2aa45-3c3c-4be2-8522-98490c9608a8",
   "metadata": {},
   "outputs": [
    {
     "name": "stdout",
     "output_type": "stream",
     "text": [
      "<class 'geopandas.geodataframe.GeoDataFrame'>\n",
      "RangeIndex: 676 entries, 0 to 675\n",
      "Data columns (total 2 columns):\n",
      " #   Column    Non-Null Count  Dtype   \n",
      "---  ------    --------------  -----   \n",
      " 0   FID       676 non-null    int64   \n",
      " 1   geometry  676 non-null    geometry\n",
      "dtypes: geometry(1), int64(1)\n",
      "memory usage: 10.7 KB\n"
     ]
    }
   ],
   "source": [
    "points = gpd.read_file(\"hex_ctr_fin_2.shp\")\n",
    "points.info()\n",
    "points['X']  = points.geometry.x\n",
    "points['Y']  = points.geometry.y"
   ]
  },
  {
   "cell_type": "code",
   "execution_count": 173,
   "id": "10b32dad-db92-41dc-b391-c518121c9503",
   "metadata": {},
   "outputs": [],
   "source": [
    "hex_grid = grid_hex (point_init = points, sidelength = sidelength)"
   ]
  },
  {
   "cell_type": "code",
   "execution_count": 175,
   "id": "7e4dd3f4-4f42-4959-8bed-350e9362caa6",
   "metadata": {},
   "outputs": [],
   "source": [
    "gdf_hex = export_to_shapefile(target = hex_grid, filename = \"hex_fin_2.shp\", crs=32748)"
   ]
  }
 ],
 "metadata": {
  "kernelspec": {
   "display_name": "Python 3 (ipykernel)",
   "language": "python",
   "name": "python3"
  },
  "language_info": {
   "codemirror_mode": {
    "name": "ipython",
    "version": 3
   },
   "file_extension": ".py",
   "mimetype": "text/x-python",
   "name": "python",
   "nbconvert_exporter": "python",
   "pygments_lexer": "ipython3",
   "version": "3.12.3"
  }
 },
 "nbformat": 4,
 "nbformat_minor": 5
}
